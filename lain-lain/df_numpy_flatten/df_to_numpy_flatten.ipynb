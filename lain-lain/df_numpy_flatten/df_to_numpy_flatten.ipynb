{
 "cells": [
  {
   "cell_type": "code",
   "execution_count": 19,
   "metadata": {},
   "outputs": [
    {
     "data": {
      "text/html": [
       "<div>\n",
       "<style scoped>\n",
       "    .dataframe tbody tr th:only-of-type {\n",
       "        vertical-align: middle;\n",
       "    }\n",
       "\n",
       "    .dataframe tbody tr th {\n",
       "        vertical-align: top;\n",
       "    }\n",
       "\n",
       "    .dataframe thead th {\n",
       "        text-align: right;\n",
       "    }\n",
       "</style>\n",
       "<table border=\"1\" class=\"dataframe\">\n",
       "  <thead>\n",
       "    <tr style=\"text-align: right;\">\n",
       "      <th></th>\n",
       "      <th>2012</th>\n",
       "      <th>2013</th>\n",
       "      <th>2014</th>\n",
       "      <th>2015</th>\n",
       "      <th>2016</th>\n",
       "      <th>2017</th>\n",
       "      <th>2018</th>\n",
       "      <th>2019</th>\n",
       "    </tr>\n",
       "  </thead>\n",
       "  <tbody>\n",
       "    <tr>\n",
       "      <th>0</th>\n",
       "      <td>94681.9</td>\n",
       "      <td>116823.5</td>\n",
       "      <td>134451.8</td>\n",
       "      <td>123841.9</td>\n",
       "      <td>95110.5</td>\n",
       "      <td>98553.5</td>\n",
       "      <td>110378.2</td>\n",
       "      <td>121692.5</td>\n",
       "    </tr>\n",
       "    <tr>\n",
       "      <th>1</th>\n",
       "      <td>81528.9</td>\n",
       "      <td>89777.8</td>\n",
       "      <td>49782.0</td>\n",
       "      <td>36684.5</td>\n",
       "      <td>50961.1</td>\n",
       "      <td>48167.4</td>\n",
       "      <td>48135.7</td>\n",
       "      <td>65670.5</td>\n",
       "    </tr>\n",
       "    <tr>\n",
       "      <th>2</th>\n",
       "      <td>35068.2</td>\n",
       "      <td>37711.5</td>\n",
       "      <td>35579.3</td>\n",
       "      <td>32503.5</td>\n",
       "      <td>33037.8</td>\n",
       "      <td>31421.4</td>\n",
       "      <td>28722.9</td>\n",
       "      <td>28436.4</td>\n",
       "    </tr>\n",
       "    <tr>\n",
       "      <th>3</th>\n",
       "      <td>37899.1</td>\n",
       "      <td>36149.6</td>\n",
       "      <td>35574.1</td>\n",
       "      <td>33037.3</td>\n",
       "      <td>34943.2</td>\n",
       "      <td>38075.1</td>\n",
       "      <td>37150.9</td>\n",
       "      <td>29550.0</td>\n",
       "    </tr>\n",
       "    <tr>\n",
       "      <th>4</th>\n",
       "      <td>28692.4</td>\n",
       "      <td>27947.2</td>\n",
       "      <td>27018.3</td>\n",
       "      <td>24088.1</td>\n",
       "      <td>20289.5</td>\n",
       "      <td>18187.7</td>\n",
       "      <td>17935.1</td>\n",
       "      <td>19061.2</td>\n",
       "    </tr>\n",
       "    <tr>\n",
       "      <th>5</th>\n",
       "      <td>16034.5</td>\n",
       "      <td>17120.6</td>\n",
       "      <td>14452.5</td>\n",
       "      <td>16567.5</td>\n",
       "      <td>17272.4</td>\n",
       "      <td>21189.9</td>\n",
       "      <td>22045.4</td>\n",
       "      <td>25323.5</td>\n",
       "    </tr>\n",
       "    <tr>\n",
       "      <th>6</th>\n",
       "      <td>11621.1</td>\n",
       "      <td>14508.8</td>\n",
       "      <td>15021.3</td>\n",
       "      <td>15811.3</td>\n",
       "      <td>17503.4</td>\n",
       "      <td>18977.9</td>\n",
       "      <td>22595.0</td>\n",
       "      <td>27450.8</td>\n",
       "    </tr>\n",
       "    <tr>\n",
       "      <th>7</th>\n",
       "      <td>14676</td>\n",
       "      <td>14258.0</td>\n",
       "      <td>16196.1</td>\n",
       "      <td>17729.5</td>\n",
       "      <td>16439.0</td>\n",
       "      <td>16374.7</td>\n",
       "      <td>19964.1</td>\n",
       "      <td>17600.4</td>\n",
       "    </tr>\n",
       "    <tr>\n",
       "      <th>8</th>\n",
       "      <td>11789.5</td>\n",
       "      <td>12875.6</td>\n",
       "      <td>12513.5</td>\n",
       "      <td>9414.7</td>\n",
       "      <td>9423.9</td>\n",
       "      <td>8449.8</td>\n",
       "      <td>9028.4</td>\n",
       "      <td>7876.8</td>\n",
       "    </tr>\n",
       "    <tr>\n",
       "      <th>9</th>\n",
       "      <td>5704.8</td>\n",
       "      <td>4078.0</td>\n",
       "      <td>4071.5</td>\n",
       "      <td>4826.5</td>\n",
       "      <td>4944.0</td>\n",
       "      <td>3232.2</td>\n",
       "      <td>2463.9</td>\n",
       "      <td>684.6</td>\n",
       "    </tr>\n",
       "    <tr>\n",
       "      <th>10</th>\n",
       "      <td>9808.1</td>\n",
       "      <td>10133.6</td>\n",
       "      <td>11642.4</td>\n",
       "      <td>13882.6</td>\n",
       "      <td>11405.0</td>\n",
       "      <td>16468.8</td>\n",
       "      <td>24704.7</td>\n",
       "      <td>31589.1</td>\n",
       "    </tr>\n",
       "    <tr>\n",
       "      <th>11</th>\n",
       "      <td>347504</td>\n",
       "      <td>381384.2</td>\n",
       "      <td>356302.8</td>\n",
       "      <td>328387.4</td>\n",
       "      <td>311329.8</td>\n",
       "      <td>319098.4</td>\n",
       "      <td>343124.3</td>\n",
       "      <td>374935.8</td>\n",
       "    </tr>\n",
       "  </tbody>\n",
       "</table>\n",
       "</div>"
      ],
      "text/plain": [
       "       2012      2013      2014      2015      2016      2017      2018  \\\n",
       "0   94681.9  116823.5  134451.8  123841.9   95110.5   98553.5  110378.2   \n",
       "1   81528.9   89777.8   49782.0   36684.5   50961.1   48167.4   48135.7   \n",
       "2   35068.2   37711.5   35579.3   32503.5   33037.8   31421.4   28722.9   \n",
       "3   37899.1   36149.6   35574.1   33037.3   34943.2   38075.1   37150.9   \n",
       "4   28692.4   27947.2   27018.3   24088.1   20289.5   18187.7   17935.1   \n",
       "5   16034.5   17120.6   14452.5   16567.5   17272.4   21189.9   22045.4   \n",
       "6   11621.1   14508.8   15021.3   15811.3   17503.4   18977.9   22595.0   \n",
       "7     14676   14258.0   16196.1   17729.5   16439.0   16374.7   19964.1   \n",
       "8   11789.5   12875.6   12513.5    9414.7    9423.9    8449.8    9028.4   \n",
       "9    5704.8    4078.0    4071.5    4826.5    4944.0    3232.2    2463.9   \n",
       "10   9808.1   10133.6   11642.4   13882.6   11405.0   16468.8   24704.7   \n",
       "11   347504  381384.2  356302.8  328387.4  311329.8  319098.4  343124.3   \n",
       "\n",
       "        2019  \n",
       "0   121692.5  \n",
       "1    65670.5  \n",
       "2    28436.4  \n",
       "3    29550.0  \n",
       "4    19061.2  \n",
       "5    25323.5  \n",
       "6    27450.8  \n",
       "7    17600.4  \n",
       "8     7876.8  \n",
       "9      684.6  \n",
       "10   31589.1  \n",
       "11  374935.8  "
      ]
     },
     "execution_count": 19,
     "metadata": {},
     "output_type": "execute_result"
    }
   ],
   "source": [
    "import pandas as pd\n",
    "import numpy as np\n",
    "\n",
    "df = pd.read_excel('indo_08_33.xls', header = 2)\n",
    "df = df.dropna().reset_index(drop = True)\n",
    "df_sliced = df.iloc[:12, 1:]\n",
    "df_sliced"
   ]
  },
  {
   "cell_type": "code",
   "execution_count": 26,
   "metadata": {},
   "outputs": [
    {
     "data": {
      "text/plain": [
       "57543.06666666666"
      ]
     },
     "execution_count": 26,
     "metadata": {},
     "output_type": "execute_result"
    }
   ],
   "source": [
    "#pake to_numpy buat dijadikan array\n",
    "\n",
    "values_array = df_sliced.to_numpy()\n",
    "values_array = values_array.flatten()\n",
    "\n",
    "#mean\n",
    "mean = np.mean(values_array)\n",
    "mean"
   ]
  },
  {
   "cell_type": "code",
   "execution_count": 31,
   "metadata": {},
   "outputs": [
    {
     "data": {
      "text/plain": [
       "57543.066666666666"
      ]
     },
     "execution_count": 31,
     "metadata": {},
     "output_type": "execute_result"
    }
   ],
   "source": [
    "np.mean(np.mean(df_sliced).values)"
   ]
  },
  {
   "cell_type": "code",
   "execution_count": 32,
   "metadata": {},
   "outputs": [
    {
     "data": {
      "text/plain": [
       "2012    57917.416667\n",
       "2013    63564.033333\n",
       "2014    59383.800000\n",
       "2015    54731.233333\n",
       "2016    51888.300000\n",
       "2017    53183.066667\n",
       "2018    57187.383333\n",
       "2019    62489.300000\n",
       "dtype: float64"
      ]
     },
     "execution_count": 32,
     "metadata": {},
     "output_type": "execute_result"
    }
   ],
   "source": [
    "np.mean(df_sliced)"
   ]
  },
  {
   "cell_type": "code",
   "execution_count": 43,
   "metadata": {},
   "outputs": [
    {
     "data": {
      "text/plain": [
       "0     94681.9\n",
       "1     81528.9\n",
       "2     35068.2\n",
       "3     37899.1\n",
       "4     28692.4\n",
       "5     16034.5\n",
       "6     11621.1\n",
       "7       14676\n",
       "8     11789.5\n",
       "9      5704.8\n",
       "10     9808.1\n",
       "11     347504\n",
       "Name: 2012, dtype: object"
      ]
     },
     "execution_count": 43,
     "metadata": {},
     "output_type": "execute_result"
    }
   ],
   "source": [
    "df_sliced.columns = df_sliced.columns.astype('str')\n",
    "df_sliced['2012']"
   ]
  }
 ],
 "metadata": {
  "kernelspec": {
   "display_name": "Python 3",
   "language": "python",
   "name": "python3"
  },
  "language_info": {
   "codemirror_mode": {
    "name": "ipython",
    "version": 3
   },
   "file_extension": ".py",
   "mimetype": "text/x-python",
   "name": "python",
   "nbconvert_exporter": "python",
   "pygments_lexer": "ipython3",
   "version": "3.8.5"
  }
 },
 "nbformat": 4,
 "nbformat_minor": 4
}
